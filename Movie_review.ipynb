{
 "cells": [
  {
   "cell_type": "markdown",
   "metadata": {},
   "source": [
    "#  Webscraping Module\n"
   ]
  },
  {
   "cell_type": "markdown",
   "metadata": {},
   "source": [
    "1.import required libaries \n",
    "    * requests : To retrived the Html of the source page\n",
    "    * bs4      : To converted the obtained html which in the form of text into soup object in which we can retrive specific                      data like headers, paragraphs, etc.\n",
    "    * lxml     : Helps bs4 to understand the html.\n",
    "    * csv      : To write or read into csv file."
   ]
  },
  {
   "cell_type": "code",
   "execution_count": 1,
   "metadata": {},
   "outputs": [],
   "source": [
    "import requests\n",
    "import lxml\n",
    "import bs4\n",
    "import csv \n",
    "import time\n",
    "from math import sqrt\n"
   ]
  },
  {
   "cell_type": "markdown",
   "metadata": {},
   "source": [
    "2. Loading the featured page links into a link to hit them and creating headers to mimic actual browser."
   ]
  },
  {
   "cell_type": "code",
   "execution_count": 2,
   "metadata": {},
   "outputs": [],
   "source": [
    "urls =[\"https://www.metacritic.com/browse/movies/score/metascore/all/filtered?sort=desc&page=0\",\n",
    "       \"https://www.metacritic.com/browse/movies/score/metascore/all/filtered?sort=desc&page=1\",\n",
    "       \"https://www.metacritic.com/browse/movies/score/metascore/all/filtered?sort=desc&page=2\",\n",
    "       \"https://www.metacritic.com/browse/movies/score/metascore/all/filtered?sort=desc&page=3\",\n",
    "       \"https://www.metacritic.com/browse/movies/score/metascore/all/filtered?sort=desc&page=4\"]\n",
    "headers = {'User-Agent': 'Mozilla/5.0 (Macintosh; Intel Mac OS X 10_13_6) AppleWebKit/537.36 (KHTML, like Gecko) Chrome/70.0.3538.77 Safari/537.36'}\n",
    "\n"
   ]
  },
  {
   "cell_type": "markdown",
   "metadata": {},
   "source": [
    "3. Initialise the varaible that are used to store the data"
   ]
  },
  {
   "cell_type": "code",
   "execution_count": 3,
   "metadata": {},
   "outputs": [],
   "source": [
    "movie_short_href={} # used to store the href values \n",
    "\n",
    "movie_details={}    # Used to store the final movie details as \n",
    "                    #   { 'movie_name':{'Director':['director_name'], \n",
    "                    #                   'Principal Cast' : [name_1, name_2 ...name_m], \n",
    "                    #                    'Cast':['name_1, name_2... name_n'] }}  note m>n.\n",
    "            \n",
    "failed_items=[]     # Used to store the movie if of those movie where we have a failed attempt.\n",
    "\n",
    "\n"
   ]
  },
  {
   "cell_type": "markdown",
   "metadata": {},
   "source": [
    "4. Below process is to achieve the link for each movies from the main page\n",
    "\n",
    "    result : now we have collection of end points of the movies."
   ]
  },
  {
   "cell_type": "code",
   "execution_count": 4,
   "metadata": {},
   "outputs": [],
   "source": [
    "\n",
    "index_num=0\n",
    "for url in urls:\n",
    "    result = requests.get(url,headers=headers)\n",
    "    soup = bs4.BeautifulSoup(result.text, \"lxml\")\n",
    "    div_tag = soup.find_all('div', class_=[\"browse_list_wrapper one browse-list-large\",\n",
    "                                           \"browse_list_wrapper two browse-list-large\",\n",
    "                                           \"browse_list_wrapper three browse-list-large\",\n",
    "                                           \"browse_list_wrapper four browse-list-large\"])\n",
    "    for item in div_tag:\n",
    "        for element in item.find_all('td', class_='clamp-image-wrap'):\n",
    "            index_num=index_num+1\n",
    "            source=element.find_all('a' , href= True)[0]\n",
    "            movie_short_href[index_num]=source['href'].replace('/movie/','')\n",
    "    \n",
    "    "
   ]
  },
  {
   "cell_type": "markdown",
   "metadata": {},
   "source": [
    "5. This is method is to scrape individual movie details from its respective website, if there is any kind of failure while scraping we store the the movie id  in a list (failed_items)."
   ]
  },
  {
   "cell_type": "code",
   "execution_count": 5,
   "metadata": {},
   "outputs": [],
   "source": [
    "def retrive_data_from_website(i):\n",
    "    movie_link='https://www.metacritic.com/movie/'\n",
    "    url = movie_link+movie_short_href[i]+'/details'\n",
    "    result = requests.get(url,headers=headers)\n",
    "    if result.status_code != 200:\n",
    "        failed_items.append(i)\n",
    "    else:\n",
    "        \n",
    "        final_details={}\n",
    "        soup = bs4.BeautifulSoup(result.text,'lxml')\n",
    "        tags = soup.find_all('table', class_='credits')\n",
    "        wanted_columns=['Director', 'Principal Cast', 'Cast']\n",
    "        movie_name = soup.find_all('div', class_='product_page_title oswald upper')[0].find_all('h1')[0].getText()\n",
    "        meta_score = soup.find_all('a', class_ = 'metascore_anchor')[0].getText().strip()\n",
    "        final_details['meta-score']=meta_score\n",
    "        for table in tags:\n",
    "            column = table.find_all('th', class_=\"person\")[0].getText()\n",
    "            if column in wanted_columns:\n",
    "                details=[]\n",
    "                role_details=[]\n",
    "                for name in table.find_all('a', href=True):\n",
    "                    details.append(name.getText().strip())\n",
    "                final_details[column]=details\n",
    "                for role_name in table.find_all('td', class_=\"role\"):\n",
    "                    role_details.append(role_name.getText().strip())\n",
    "        if movie_name not in movie_short_href.values():\n",
    "            movie_short_href[i] = movie_name\n",
    "        movie_details[movie_short_href[i]] = final_details\n",
    "    if i in [100,200,300,400,500]:\n",
    "        time.sleep(2)\n",
    "    if i in failed_items:\n",
    "        failed_items.remove(i)\n",
    "    "
   ]
  },
  {
   "cell_type": "markdown",
   "metadata": {},
   "source": [
    "6. Now we hit every movie link from our collection and check for any failed attempts,\n",
    "    if any there is any failed attempt, that implies that the href we obtained has different value which the website has\n",
    "    internally rerouted, so just for the failed items instead of hitting the details  page we go step bye step and find the\n",
    "    actual href value \n",
    "    \n",
    "    example:\n",
    "    movie href value = 'citizen-kane' in page - 1\n",
    "    we would be hitting = '/movies/citizen-kane/details' which is wrong endpoint.\n",
    "    actual endpoint = '/movies/citizen-kane-1941/details' \n",
    "    \n",
    "   for movies like these which are less than 10 in count,\n",
    "    we first hit the movie page which is '/movies/citizen-kane'  which would internal redirect at the server side into\n",
    "   'movie/citizen-kane-1941' we now take the url and update the href value in movie_short_href variable and continue the \n",
    "    process\n",
    "    "
   ]
  },
  {
   "cell_type": "code",
   "execution_count": 6,
   "metadata": {},
   "outputs": [],
   "source": [
    "\n",
    "for i in movie_short_href.keys():\n",
    "    retrive_data_from_website(i)\n",
    "if len(failed_items)>0:\n",
    "    for i in failed_items:\n",
    "        url = 'https://www.metacritic.com/movie/'+movie_short_href[i]\n",
    "        dummy = requests.get(url,headers={'User-Agent': 'Mozilla/5.0'})\n",
    "        movie_short_href[i]=dummy.url[dummy.url.rindex('/')+1::]\n",
    "        retrive_data_from_website(i)\n"
   ]
  },
  {
   "cell_type": "markdown",
   "metadata": {},
   "source": [
    "#  Store into CSV \n"
   ]
  },
  {
   "cell_type": "markdown",
   "metadata": {},
   "source": [
    "7. Now we use csv writed class to save our movie details into Csv file."
   ]
  },
  {
   "cell_type": "code",
   "execution_count": 7,
   "metadata": {},
   "outputs": [],
   "source": [
    "with open(\"dict.csv\", \"w\", newline=\"\") as csv_file:  \n",
    "    writer = csv.writer(csv_file)\n",
    "    writer.writerow(['Movie Name','Director','Cast','Meta Score'])\n",
    "    for key, value in movie_details.items():\n",
    "        writer.writerow([key,value['Director'],value.get('Principal Cast',[])+value.get('Cast',[]),value['meta-score']])\n"
   ]
  },
  {
   "cell_type": "markdown",
   "metadata": {},
   "source": [
    "# Store in  SQL Lite Db\n",
    "8. we store our movie details into sqlLite db under the name of MovieInfoDatabase db and into MovieInfoTable"
   ]
  },
  {
   "cell_type": "code",
   "execution_count": 10,
   "metadata": {},
   "outputs": [
    {
     "ename": "OperationalError",
     "evalue": "table MovieInfoTable already exists",
     "output_type": "error",
     "traceback": [
      "\u001b[1;31m---------------------------------------------------------------------------\u001b[0m",
      "\u001b[1;31mOperationalError\u001b[0m                          Traceback (most recent call last)",
      "\u001b[1;32m<ipython-input-10-4ed7a4853842>\u001b[0m in \u001b[0;36m<module>\u001b[1;34m\u001b[0m\n\u001b[0;32m      2\u001b[0m \u001b[0mconnection\u001b[0m \u001b[1;33m=\u001b[0m \u001b[0msqlite3\u001b[0m\u001b[1;33m.\u001b[0m\u001b[0mconnect\u001b[0m\u001b[1;33m(\u001b[0m\u001b[1;34m'MovieInfoDatabase.db'\u001b[0m\u001b[1;33m)\u001b[0m\u001b[1;33m\u001b[0m\u001b[1;33m\u001b[0m\u001b[0m\n\u001b[0;32m      3\u001b[0m \u001b[0mcursor\u001b[0m\u001b[1;33m=\u001b[0m \u001b[0mconnection\u001b[0m\u001b[1;33m.\u001b[0m\u001b[0mcursor\u001b[0m\u001b[1;33m(\u001b[0m\u001b[1;33m)\u001b[0m\u001b[1;33m\u001b[0m\u001b[1;33m\u001b[0m\u001b[0m\n\u001b[1;32m----> 4\u001b[1;33m \u001b[0mcursor\u001b[0m\u001b[1;33m.\u001b[0m\u001b[0mexecute\u001b[0m\u001b[1;33m(\u001b[0m\u001b[1;34m'CREATE TABLE MovieInfoTable (Movie_name Varchar, Director varchar, Cast Varchar, Meta_score varchar)'\u001b[0m\u001b[1;33m)\u001b[0m\u001b[1;33m\u001b[0m\u001b[1;33m\u001b[0m\u001b[0m\n\u001b[0m\u001b[0;32m      5\u001b[0m \u001b[1;32mfor\u001b[0m \u001b[0mkey\u001b[0m\u001b[1;33m,\u001b[0m \u001b[0mvalue\u001b[0m \u001b[1;32min\u001b[0m \u001b[0mmovie_details\u001b[0m\u001b[1;33m.\u001b[0m\u001b[0mitems\u001b[0m\u001b[1;33m(\u001b[0m\u001b[1;33m)\u001b[0m\u001b[1;33m:\u001b[0m\u001b[1;33m\u001b[0m\u001b[1;33m\u001b[0m\u001b[0m\n\u001b[0;32m      6\u001b[0m     \u001b[0mcast\u001b[0m\u001b[1;33m=\u001b[0m\u001b[1;34m\"\"\u001b[0m\u001b[1;33m\u001b[0m\u001b[1;33m\u001b[0m\u001b[0m\n",
      "\u001b[1;31mOperationalError\u001b[0m: table MovieInfoTable already exists"
     ]
    }
   ],
   "source": [
    "import sqlite3\n",
    "connection = sqlite3.connect('MovieInfoDatabase.db')\n",
    "cursor= connection.cursor()\n",
    "cursor.execute('CREATE TABLE MovieInfoTable (Movie_name Varchar, Director varchar, Cast Varchar, Meta_score varchar)')\n",
    "for key, value in movie_details.items():\n",
    "    cast=\"\"\n",
    "    for i in value.get('Principal Cast',[])+value.get('Cast',[]):\n",
    "        cast =cast + i+','\n",
    "    cast = cast[0:len(cast)-1:]\n",
    "    sql_query=\"insert into MovieInfoTable values( \\\"{0}\\\",\\\"{1}\\\",\\\"{2}\\\",\\\"{3}\\\")\".format(str(key), str(value['Director'][0]),str(cast),str(value['meta-score']))\n",
    "    cursor.execute(sql_query)\n",
    "connection.commit()"
   ]
  },
  {
   "cell_type": "markdown",
   "metadata": {},
   "source": [
    " 9. Check for Movie info By giving movie name \n",
    " "
   ]
  },
  {
   "cell_type": "code",
   "execution_count": 3,
   "metadata": {
    "scrolled": true
   },
   "outputs": [
    {
     "ename": "KeyboardInterrupt",
     "evalue": "Interrupted by user",
     "output_type": "error",
     "traceback": [
      "\u001b[1;31m---------------------------------------------------------------------------\u001b[0m",
      "\u001b[1;31mKeyboardInterrupt\u001b[0m                         Traceback (most recent call last)",
      "\u001b[1;32m<ipython-input-3-404ef4173bf8>\u001b[0m in \u001b[0;36m<module>\u001b[1;34m\u001b[0m\n\u001b[1;32m----> 1\u001b[1;33m \u001b[0mmovie_name\u001b[0m \u001b[1;33m=\u001b[0m \u001b[0minput\u001b[0m\u001b[1;33m(\u001b[0m\u001b[1;34m'Which movie do you want to check? >'\u001b[0m\u001b[1;33m)\u001b[0m\u001b[1;33m\u001b[0m\u001b[1;33m\u001b[0m\u001b[0m\n\u001b[0m\u001b[0;32m      2\u001b[0m \u001b[1;32mif\u001b[0m \u001b[0mmovie_name\u001b[0m  \u001b[1;32min\u001b[0m \u001b[0mmovie_details\u001b[0m\u001b[1;33m.\u001b[0m\u001b[0mkeys\u001b[0m\u001b[1;33m(\u001b[0m\u001b[1;33m)\u001b[0m\u001b[1;33m:\u001b[0m\u001b[1;33m\u001b[0m\u001b[1;33m\u001b[0m\u001b[0m\n\u001b[0;32m      3\u001b[0m     \u001b[0mdesire_info\u001b[0m \u001b[1;33m=\u001b[0m \u001b[0minput\u001b[0m\u001b[1;33m(\u001b[0m\u001b[1;34m'What information about this movie do you want to check? (Choose Director or Cast)'\u001b[0m\u001b[1;33m)\u001b[0m\u001b[1;33m\u001b[0m\u001b[1;33m\u001b[0m\u001b[0m\n\u001b[0;32m      4\u001b[0m     \u001b[1;32mif\u001b[0m \u001b[0mdesire_info\u001b[0m \u001b[1;33m==\u001b[0m \u001b[1;34m'Director'\u001b[0m\u001b[1;33m:\u001b[0m\u001b[1;33m\u001b[0m\u001b[1;33m\u001b[0m\u001b[0m\n\u001b[0;32m      5\u001b[0m         \u001b[0mprint\u001b[0m\u001b[1;33m(\u001b[0m\u001b[1;34m'The Director of the {0} is {1}'\u001b[0m\u001b[1;33m.\u001b[0m\u001b[0mformat\u001b[0m\u001b[1;33m(\u001b[0m\u001b[0mmovie_name\u001b[0m\u001b[1;33m,\u001b[0m\u001b[0mmovie_details\u001b[0m\u001b[1;33m[\u001b[0m\u001b[0mmovie_name\u001b[0m\u001b[1;33m]\u001b[0m\u001b[1;33m[\u001b[0m\u001b[0mdesire_info\u001b[0m\u001b[1;33m]\u001b[0m\u001b[1;33m)\u001b[0m\u001b[1;33m)\u001b[0m\u001b[1;33m\u001b[0m\u001b[1;33m\u001b[0m\u001b[0m\n",
      "\u001b[1;32m~\\anaconda3\\lib\\site-packages\\ipykernel\\kernelbase.py\u001b[0m in \u001b[0;36mraw_input\u001b[1;34m(self, prompt)\u001b[0m\n\u001b[0;32m    858\u001b[0m                 \u001b[1;34m\"raw_input was called, but this frontend does not support input requests.\"\u001b[0m\u001b[1;33m\u001b[0m\u001b[1;33m\u001b[0m\u001b[0m\n\u001b[0;32m    859\u001b[0m             )\n\u001b[1;32m--> 860\u001b[1;33m         return self._input_request(str(prompt),\n\u001b[0m\u001b[0;32m    861\u001b[0m             \u001b[0mself\u001b[0m\u001b[1;33m.\u001b[0m\u001b[0m_parent_ident\u001b[0m\u001b[1;33m,\u001b[0m\u001b[1;33m\u001b[0m\u001b[1;33m\u001b[0m\u001b[0m\n\u001b[0;32m    862\u001b[0m             \u001b[0mself\u001b[0m\u001b[1;33m.\u001b[0m\u001b[0m_parent_header\u001b[0m\u001b[1;33m,\u001b[0m\u001b[1;33m\u001b[0m\u001b[1;33m\u001b[0m\u001b[0m\n",
      "\u001b[1;32m~\\anaconda3\\lib\\site-packages\\ipykernel\\kernelbase.py\u001b[0m in \u001b[0;36m_input_request\u001b[1;34m(self, prompt, ident, parent, password)\u001b[0m\n\u001b[0;32m    902\u001b[0m             \u001b[1;32mexcept\u001b[0m \u001b[0mKeyboardInterrupt\u001b[0m\u001b[1;33m:\u001b[0m\u001b[1;33m\u001b[0m\u001b[1;33m\u001b[0m\u001b[0m\n\u001b[0;32m    903\u001b[0m                 \u001b[1;31m# re-raise KeyboardInterrupt, to truncate traceback\u001b[0m\u001b[1;33m\u001b[0m\u001b[1;33m\u001b[0m\u001b[1;33m\u001b[0m\u001b[0m\n\u001b[1;32m--> 904\u001b[1;33m                 \u001b[1;32mraise\u001b[0m \u001b[0mKeyboardInterrupt\u001b[0m\u001b[1;33m(\u001b[0m\u001b[1;34m\"Interrupted by user\"\u001b[0m\u001b[1;33m)\u001b[0m \u001b[1;32mfrom\u001b[0m \u001b[1;32mNone\u001b[0m\u001b[1;33m\u001b[0m\u001b[1;33m\u001b[0m\u001b[0m\n\u001b[0m\u001b[0;32m    905\u001b[0m             \u001b[1;32mexcept\u001b[0m \u001b[0mException\u001b[0m \u001b[1;32mas\u001b[0m \u001b[0me\u001b[0m\u001b[1;33m:\u001b[0m\u001b[1;33m\u001b[0m\u001b[1;33m\u001b[0m\u001b[0m\n\u001b[0;32m    906\u001b[0m                 \u001b[0mself\u001b[0m\u001b[1;33m.\u001b[0m\u001b[0mlog\u001b[0m\u001b[1;33m.\u001b[0m\u001b[0mwarning\u001b[0m\u001b[1;33m(\u001b[0m\u001b[1;34m\"Invalid Message:\"\u001b[0m\u001b[1;33m,\u001b[0m \u001b[0mexc_info\u001b[0m\u001b[1;33m=\u001b[0m\u001b[1;32mTrue\u001b[0m\u001b[1;33m)\u001b[0m\u001b[1;33m\u001b[0m\u001b[1;33m\u001b[0m\u001b[0m\n",
      "\u001b[1;31mKeyboardInterrupt\u001b[0m: Interrupted by user"
     ]
    }
   ],
   "source": [
    "movie_name = input('Which movie do you want to check? >')\n",
    "if movie_name  in movie_details.keys():\n",
    "    desire_info = input('What information about this movie do you want to check? (Choose Director or Cast)')\n",
    "    if desire_info == 'Director':\n",
    "        print('The Director of the {0} is {1}'.format(movie_name,movie_details[movie_name][desire_info]))\n",
    "    elif desire_info == 'Cast':\n",
    "        print('The Cast of the {} includes'.format(movie_name,movie_details[movie_name][desire_info]))\n",
    "else:\n",
    "    print('The User provided movie name is not in our Data or there name doesn\\'t match.Choose from below movie')\n",
    "    print(movie_details.keys())\n",
    "    \n"
   ]
  },
  {
   "cell_type": "markdown",
   "metadata": {},
   "source": [
    "1. Analyze how many times has each actor/actress appeared in these top 500 movies, analyze how many times has each director appeared in these top 500 movies, what can that tell you about their career?\n",
    "\n",
    "We have accumulated all the details of cast and how many time that they have appeared in the in top 500 movies along with the movie rating provided by the metactritic website which is called as metascore. into the \"cast_details\" dictionary. \n",
    "\n",
    "Filter all the cast  and directors from each movie and append them to the list.\n",
    "        cast_details = {'name' :{count:'v',rating:'v'}}\n",
    "    director_details = {'name' :{count:'v',rating:'v'}}\n",
    "                          \n",
    "Count is the number of movies that they worked in.\n",
    "Rating would be the average of the rating of the all the movies that they worked in.\n",
    "    \n",
    "                               \n",
    "                        \n"
   ]
  },
  {
   "cell_type": "code",
   "execution_count": 9,
   "metadata": {},
   "outputs": [],
   "source": [
    "cast_details={}\n",
    "\n",
    "director_details={}\n",
    "\n",
    "#Below two methods are to make dictionaries respect to cast and directors with their details.\n",
    "def add_castnames_count(cast_names,score):\n",
    "    for name in cast_names:\n",
    "        cast_details[name]= cast_details.get(name,{'count':0, 'rating': 0})\n",
    "        cast_details[name]['count'] = cast_details[name].get('count',0) + 1\n",
    "        cast_details[name]['rating'] = cast_details[name]['rating']+int(score)\n",
    "            \n",
    "def add_directornames_count(director_name,score):\n",
    "    for name in director_name:\n",
    "        director_details[name]= director_details.get(name,{'count':0, 'rating': 0})\n",
    "        director_details[name]['count'] = director_details[name].get('count',0) + 1\n",
    "        director_details[name]['rating'] = director_details[name]['rating']+int(score)   \n",
    "        \n",
    "#We run the methods from the below code by passing one movie detail at a time.\n",
    "for movie_name,movies in movie_details.items():\n",
    "    add_castnames_count(list(set(movies.get('Principal Cast',[])+movies.get('Cast',[]))), movies['meta-score'])\n",
    "    add_directornames_count(movies.get('Director',[]),movies['meta-score'])\n",
    "\n",
    "# The code below is performed to find the average rating of the cast/director.\n",
    "for name in cast_details.keys():\n",
    "        cast_details[name]['rating'] = cast_details[name]['rating']/cast_details[name]['count']\n",
    "for name in director_details.keys():\n",
    "        director_details[name]['rating'] = director_details[name]['rating']/director_details[name]['count']\n",
    "    \n"
   ]
  },
  {
   "cell_type": "code",
   "execution_count": null,
   "metadata": {
    "scrolled": true
   },
   "outputs": [],
   "source": [
    "desired_cast_name= input('Enter the cast name to know how many times he/she was appeared in top 500 movies')\n",
    "if desired_cast_name in cast_details.keys():\n",
    "    print('{1} has appeared {0} in the top 500 movies'.format(cast_details[desired_cast_name]['count'],desired_cast_name)\n",
    "else:\n",
    "    print('The User provided Cast name is not in our Data or there name doesn\\'t match.Choose from the below cast list')\n",
    "    print(cast_details.keys())\n"
   ]
  },
  {
   "cell_type": "code",
   "execution_count": null,
   "metadata": {},
   "outputs": [],
   "source": [
    "desired_director_name= input('Enter the Director name to know how many times he/she was appeared in top 500 movies')\n",
    "if desired_director_name in director_details.keys():\n",
    "    print(director_details[desired_director_name]['count'])\n",
    "else:\n",
    "    print('The User provided director name is not in our Data or there name doesn\\'t match.Choose from the below director list')\n",
    "    print(director_details.keys())\n",
    "if director_details[desired_director_name]['rating']>95:\n",
    "    print('The director had a very good career with excellent reviews')\n",
    "elif director_details[desired_director_name]['rating']<95 and director_details[desired_director_name]['rating']>90:\n",
    "    print('The director had a good career with moderate reviews')\n",
    "elif director_details[desired_director_name]['rating']<90 and director_details[desired_director_name]['rating']>85:\n",
    "    print('The director had a decent career with some negative reviews')\n",
    "elif director_details[desired_director_name]['rating']<85:\n",
    "    print('The director had a bad career')"
   ]
  },
  {
   "cell_type": "markdown",
   "metadata": {},
   "source": [
    "# # Task2 : Finding cosine similarities between  Directors\n",
    "\n",
    "There are 410  distinct Director in the top 500 movies.\n",
    "\n",
    "First we create a collection of  directors along with the cast they worked with and how many time that they have worked.\n",
    "\n",
    "director_cast_details = {'director-1':{'cast-1' : 1, 'cast-2' : 3, ...}..}\n",
    "\n",
    " \n",
    "Now for finding cosine similarity between two director we need find the all the cast which worked with director-1 and director-2 which we would call as union_cast, and then created a vector which consits of the number of time that they worked with the cast in the union_cast .\n",
    " \n",
    " suppose we take a pair of director as director-1, director-2 and lets look at the vector that we need to generate.\n",
    " \n",
    " Example:\n",
    " \n",
    " 'director-1':{'cast-1' : 1, \n",
    "                'cast-2' : 2, }\n",
    " 'director-2':{'cast-3' : 3, \n",
    "               'cast-2' : 4, }\n",
    "               \n",
    "  So the length of the vector is going to be the distinct cast of both directors.\n",
    "  [cast-1, cast-2. cast-3]\n",
    "  \n",
    "  the director vectors are going to be \n",
    "  director-1= [1, 2, 0 ]\n",
    "  \n",
    "  director-2 = [0, 4, 3]\n",
    "  \n",
    "  now we give this input to our cosine function and get the similarity.\n",
    "\n",
    "  \n",
    " \n",
    " "
   ]
  },
  {
   "cell_type": "code",
   "execution_count": 36,
   "metadata": {
    "scrolled": true
   },
   "outputs": [
    {
     "name": "stdout",
     "output_type": "stream",
     "text": [
      "Please choose from the below Options \n",
      "\t1.List out of all directors\n",
      "\t2.Cosine similarity between  directors \n",
      "\t3.Exit\n",
      "3\n",
      "Exit completed\n"
     ]
    }
   ],
   "source": [
    "director_cast_details={}\n",
    "\n",
    "# we create a dictionary with director name as key, and they cast who the director woked with and count of time he worked with themas value.\n",
    "for v in movie_details.values():\n",
    "    for director_name in v['Director']:\n",
    "        cast_data=director_cast_details.get(director_name,{})\n",
    "        cast = list(set(v.get('Principal Cast',[])+(v.get('Cast',[]))))\n",
    "        for name in cast:\n",
    "            cast_data[name] = cast_data.get(name,0)+1\n",
    "        director_cast_details[director_name]=cast_data\n",
    "\n",
    "# Inner product function is created to be used by the  cosine similarity function.\n",
    "def inner_product(vector_1, vector_2):    \n",
    "    product_sum = 0\n",
    "    for i in range(len(vector_1)):\n",
    "        product_sum = product_sum +(vector_1[i]*vector_2[i])\n",
    "    return product_sum\n",
    "        \n",
    "# Cosine similarity function has been created which takes the dictionary value of director 1 and director 2.\n",
    "def cosine_similarity(director_1, director_2):\n",
    "    union_cast= set(list(director_1.keys())+list(director_2.keys()))\n",
    "    vector_1=[director_1.get(i,0) for i in union_cast]       # This line provides us with the vector of the directors with respect to the all cast between two directors.\n",
    "    vector_2=[director_2.get(i,0) for i in union_cast]\n",
    "    numerator = inner_product(vector_1,vector_2)\n",
    "    if numerator==0:\n",
    "        return 0\n",
    "    denominator = sqrt(inner_product(vector_1,vector_1)) * sqrt(inner_product(vector_2,vector_2))\n",
    "    if denominator==0:\n",
    "        return 0\n",
    "    return round(numerator/denominator,5)\n",
    "\n",
    "\n",
    "while(True):\n",
    "    print(\"Please choose from the below Options \\n\\t1.List out of all directors\\n\\t2.Cosine similarity between  directors \\n\\t3.Exit\")\n",
    "    choice= int(input())\n",
    "    if choice==2:\n",
    "        print(\"Please enter the name's of the director's you want to find the similarity\")\n",
    "        director_1 = str(input(\"Enter the name of First director.\"))\n",
    "        director_2 = str(input(\"Enter the name of Second director.\"))\n",
    "        print(\"The cosine similarity between {0} and {1} is {2}\\n\".format(director_1,director_2,cosine_similarity\n",
    "                                                                        (director_cast_details[director_1],director_cast_details[director_2])))\n",
    "    elif choice==3:\n",
    "        print('Exit completed')\n",
    "        break\n",
    "    elif choice==1:\n",
    "        print(\"!!!!!!!!!!!!!!!!!!!!!!!!!Please Scroll down in the output cell to continue the loop or to enter your next choice!!!!!!!!!!!!!!!!!! \")\n",
    "        print(\"Names of all director in top 500 movies\")\n",
    "        print(director_details.keys())\n",
    "    "
   ]
  },
  {
   "cell_type": "markdown",
   "metadata": {},
   "source": [
    "# Task 3 : Find similarity between 5 actors/actress\n",
    " \n",
    "    1. I have observed and selected the John Ratzenberger,Wallace Shawn,Tom Hanks,Ray Collins and Joseph Cotten to find similarites among them.\n",
    "    2. Now we find the co_cast who worked with our cast and how many times did they work and store them in small_cast_details.\n",
    "    3. Now we find cosine similarity between them and print them out.\n",
    "    "
   ]
  },
  {
   "cell_type": "code",
   "execution_count": 14,
   "metadata": {
    "scrolled": false
   },
   "outputs": [
    {
     "name": "stdout",
     "output_type": "stream",
     "text": [
      "The cosine similarity between John Ratzenberger and Wallace Shawn is 0.55144\n",
      "\n",
      "The cosine similarity between John Ratzenberger and Tom Hanks is 0.59779\n",
      "\n",
      "The cosine similarity between John Ratzenberger and Ray Collins is 0\n",
      "\n",
      "The cosine similarity between John Ratzenberger and Joseph Cotten is 0\n",
      "\n",
      "The cosine similarity between Wallace Shawn and Tom Hanks is 0.68945\n",
      "\n",
      "The cosine similarity between Wallace Shawn and Ray Collins is 0\n",
      "\n",
      "The cosine similarity between Wallace Shawn and Joseph Cotten is 0\n",
      "\n",
      "The cosine similarity between Tom Hanks and Ray Collins is 0\n",
      "\n",
      "The cosine similarity between Tom Hanks and Joseph Cotten is 0\n",
      "\n",
      "The cosine similarity between Ray Collins and Joseph Cotten is 0.55379\n",
      "\n"
     ]
    }
   ],
   "source": [
    "#Loading the selected cast into a list.\n",
    "cast_list=['John Ratzenberger','Wallace Shawn','Tom Hanks','Ray Collins','Joseph Cotten']\n",
    "    \n",
    "#Stor the selected cast details into small_cast_details\n",
    "small_cast_details={}\n",
    "for name in cast_list:\n",
    "    cast_data=small_cast_details.get(name,{})\n",
    "    for k,v in movie_details.items():\n",
    "        cast = list(set(v.get('Principal Cast',[])+(v.get('Cast',[]))))\n",
    "        if name in cast:\n",
    "            cast.remove(name)\n",
    "            for cast_name in cast:\n",
    "                cast_data[cast_name] = cast_data.get(cast_name,0)+1\n",
    "            small_cast_details[name]=cast_data\n",
    "            \n",
    "#Find Similarity between selected cast \n",
    "sub_list=list(cast_list)\n",
    "for i in cast_list:\n",
    "    sub_list.remove(i)\n",
    "    for j in sub_list:\n",
    "        print(\"The cosine similarity between {} and {} is {}\\n\".format(i,j,cosine_similarity(small_cast_details[i],small_cast_details[j])))\n",
    "\n"
   ]
  },
  {
   "cell_type": "code",
   "execution_count": null,
   "metadata": {},
   "outputs": [],
   "source": []
  }
 ],
 "metadata": {
  "kernelspec": {
   "display_name": "Python 3",
   "language": "python",
   "name": "python3"
  },
  "language_info": {
   "codemirror_mode": {
    "name": "ipython",
    "version": 3
   },
   "file_extension": ".py",
   "mimetype": "text/x-python",
   "name": "python",
   "nbconvert_exporter": "python",
   "pygments_lexer": "ipython3",
   "version": "3.8.5"
  }
 },
 "nbformat": 4,
 "nbformat_minor": 4
}
