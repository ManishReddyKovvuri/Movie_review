{
 "cells": [
  {
   "cell_type": "markdown",
   "metadata": {},
   "source": [
    "# TO DO\n",
    "1. we have webscrape the \"metacrtics\"  website for top 500 movies "
   ]
  },
  {
   "cell_type": "markdown",
   "metadata": {},
   "source": [
    "# Task 1 : Webscraping\n",
    " 1.import required libaries \n",
    "    * requests : To retrived the Html of the source page\n",
    "    * bs4      : To converted the obtained html which in the form of text into soup object in which we can retrive specific                      data like headers, paragraphs, etc.\n",
    "    * lxml     : Helps bs4 to understand the html.\n",
    "    * csv      : To write or read into csv file."
   ]
  },
  {
   "cell_type": "code",
   "execution_count": 1,
   "metadata": {},
   "outputs": [],
   "source": [
    "import requests\n",
    "import lxml\n",
    "import bs4\n",
    "import csv \n"
   ]
  },
  {
   "cell_type": "markdown",
   "metadata": {},
   "source": [
    "2.Loading the featured page links into a link to hit them"
   ]
  },
  {
   "cell_type": "code",
   "execution_count": 2,
   "metadata": {},
   "outputs": [],
   "source": [
    "urls =[\"https://www.metacritic.com/browse/movies/score/metascore/all/filtered?sort=desc&page=1\"]\n",
    "\n"
   ]
  },
  {
   "cell_type": "markdown",
   "metadata": {},
   "source": [
    "3. Initialise the varaible that are used to store the data"
   ]
  },
  {
   "cell_type": "code",
   "execution_count": 12,
   "metadata": {},
   "outputs": [],
   "source": [
    "movie_short_href={} # used to store the href values \n",
    "\n",
    "movie_details={}    # Used to store the final movie details as \n",
    "                    #   { 'movie_name':{'Director':['director_name'], \n",
    "                    #                   'Principal Cast' : [name_1, name_2 ...name_m], \n",
    "                    #                    'Cast':['name_1, name_2... name_n'] }}  note m>n.\n",
    "            \n",
    "failed_items=[]     # Used to store the movie if of those movie where we have a failed attempt.\n",
    "\n",
    "\n"
   ]
  },
  {
   "cell_type": "markdown",
   "metadata": {},
   "source": [
    "4. Below process is to achieve the link for each movies from the main page\n",
    "\n",
    "    result : now we have collection of end points of the movies."
   ]
  },
  {
   "cell_type": "code",
   "execution_count": 13,
   "metadata": {},
   "outputs": [],
   "source": [
    "\n",
    "index_num=0\n",
    "for url in urls:\n",
    "    result = requests.get(url,headers={'User-Agent': 'Mozilla/5.0'})\n",
    "    soup = bs4.BeautifulSoup(result.text, \"lxml\")\n",
    "    div_tag = soup.find_all('div', class_=[\"browse_list_wrapper one browse-list-large\",\n",
    "                                           \"browse_list_wrapper two browse-list-large\",\n",
    "                                           \"browse_list_wrapper three browse-list-large\",\n",
    "                                           \"browse_list_wrapper four browse-list-large\"])\n",
    "    for item in div_tag:\n",
    "        for element in item.find_all('td', class_='clamp-image-wrap'):\n",
    "            index_num=index_num+1\n",
    "            source=element.find_all('a' , href= True)[0]\n",
    "            movie_short_href[index_num]=source['href'].replace('/movie/','')\n",
    "    \n",
    "    "
   ]
  },
  {
   "cell_type": "markdown",
   "metadata": {},
   "source": [
    "5. This is method is to scrape individual movie details from its respective website, if there is any kind of failure while scraping we store the the movie id  in a list (failed_items)."
   ]
  },
  {
   "cell_type": "code",
   "execution_count": 22,
   "metadata": {},
   "outputs": [],
   "source": [
    "def retrive_data_from_website(i):\n",
    "    movie_link='https://www.metacritic.com/movie/'\n",
    "    url = movie_link+movie_short_href[i]+'/details'\n",
    "    result = requests.get(url,headers={'User-Agent': 'Mozilla/5.0'})\n",
    "    if result.status_code != 200:\n",
    "        failed_items.append(i)\n",
    "    else:\n",
    "        soup = bs4.BeautifulSoup(result.text,'lxml')\n",
    "        tags = soup.find_all('table', class_='credits')\n",
    "        wanted_columns=['Director', 'Principal Cast', 'Cast']\n",
    "        movie_name = soup.find_all('div', class_='product_page_title oswald upper')[0].find_all('h1')[0].getText()\n",
    "        final_details={}\n",
    "        for table in tags:\n",
    "            column = table.find_all('th', class_=\"person\")[0].getText()\n",
    "            if column in wanted_columns:\n",
    "                details=[]\n",
    "                for name in table.find_all('a', href=True):\n",
    "                    details.append(name.getText().strip())\n",
    "                final_details[column]=details\n",
    "        if movie_name not in movie_short_href.values():\n",
    "            movie_short_href[i] = movie_name\n",
    "        movie_details[movie_short_href[i]] = final_details\n",
    "    if i in failed_items:\n",
    "        failed_items.remove(i)\n",
    "    "
   ]
  },
  {
   "cell_type": "markdown",
   "metadata": {},
   "source": [
    "6. Now we hit every movie link from our collection and check for any failed attempts, \n",
    "    if any there is any failed attempt, we now change their href value in the collection(movie_short_href)."
   ]
  },
  {
   "cell_type": "code",
   "execution_count": 23,
   "metadata": {},
   "outputs": [
    {
     "name": "stdout",
     "output_type": "stream",
     "text": [
      "1 The Lord of the Rings: The Return of the King\n",
      "2 Carlos\n",
      "3 Nomadland\n",
      "4 Marriage Story\n",
      "5 La La Land\n",
      "6 Faces Places\n",
      "7 Crouching Tiger, Hidden Dragon\n",
      "8 The Servant\n",
      "9 Call Me by Your Name\n",
      "10 The Magnificent Ambersons\n",
      "11 Reversal of Fortune\n",
      "12 David Byrne’s American Utopia\n",
      "13 Shoplifters\n",
      "14 Shoah: Four Sisters\n",
      "15 The 39 Steps\n",
      "16 Duck Soup\n",
      "17 Petite Maman\n",
      "18 Days of Heaven\n",
      "19 Toni Erdmann\n",
      "20 Yi Yi\n",
      "21 McCabe & Mrs. Miller\n",
      "22 The Best Years of Our Lives\n",
      "23 Stagecoach\n",
      "24 Inside Llewyn Davis\n",
      "25 Sherpa\n",
      "26 There Will Be Blood\n",
      "27 Badlands\n",
      "28 The Last Picture Show\n",
      "29 Do the Right Thing\n",
      "30 Sita Sings the Blues\n",
      "31 The Decline of Western Civilization\n",
      "32 Rio Bravo\n",
      "33 Brother's Keeper\n",
      "34 Crumb\n",
      "35 Spotlight\n",
      "36 The Band Wagon\n",
      "37 One More Time with Feeling\n",
      "38 The Diving Bell and the Butterfly\n",
      "39 Invasion of the Body Snatchers\n",
      "40 The Class\n",
      "41 Platoon\n",
      "42 35 Shots of Rum\n",
      "43 Apocalypse Now: Final Cut\n",
      "44 Chinatown\n",
      "45 The Florida Project\n",
      "46 Timbuktu\n",
      "47 Frenzy\n",
      "48 Brief Encounter\n",
      "49 Cool Hand Luke\n",
      "50 Little Women\n",
      "51 Maborosi\n",
      "52 Top Hat\n",
      "53 Apocalypse Now Redux\n",
      "54 Annie Hall\n",
      "55 The Lord of the Rings: The Fellowship of the Ring\n",
      "56 Quiz Show\n",
      "57 Leviathan\n",
      "58 Werckmeister Harmonies\n",
      "59 Toy Story 3\n",
      "60 This Is Spinal Tap\n",
      "61 The Look of Silence\n",
      "62 Tower\n",
      "63 The Rider\n",
      "64 Moolaadé\n",
      "65 Atanarjuat: The Fast Runner\n",
      "66 Time\n",
      "67 Gavagai\n",
      "68 The Man Who Would Be King\n",
      "69 The Killing\n",
      "70 Swing Time\n",
      "71 Breaking Away\n",
      "72 The Souvenir\n",
      "73 After Life\n",
      "74 Son of Saul\n",
      "75 Love Affair\n",
      "76 Frankenstein\n",
      "77 8½\n",
      "78 Little Women\n",
      "79 E.T. The Extra-Terrestrial\n",
      "80 The African Queen\n",
      "81 The Triplets of Belleville\n",
      "82 The Queen\n",
      "83 All Quiet on the Western Front\n",
      "84 A Bread Factory Part Two: Walk With Me a While\n",
      "85 Never Rarely Sometimes Always\n",
      "86 The Ladykillers\n",
      "87 Young Mr. Lincoln\n",
      "88 Stories We Tell\n",
      "89 A Bread Factory Part One: For the Sake of Gold\n",
      "90 The Act of Killing\n",
      "91 This Is Not a Burial, It's a Resurrection\n",
      "92 On the Waterfront\n",
      "93 Jafar Panahi's Taxi\n",
      "94 Ida\n",
      "95 Beau Travail\n",
      "96 Uncut Gems\n",
      "97 Waltz with Bashir\n",
      "98 They Shall Not Grow Old\n",
      "99 EX LIBRIS: The New York Public Library\n",
      "100 Secrets & Lies\n"
     ]
    }
   ],
   "source": [
    "\n",
    "for i in movie_short_href.keys():\n",
    "    retrive_data_from_website(i)\n"
   ]
  },
  {
   "cell_type": "code",
   "execution_count": 18,
   "metadata": {},
   "outputs": [],
   "source": [
    "if len(failed_items)>0:\n",
    "    for i in failed_items:\n",
    "        url = 'https://www.metacritic.com/movie/'+movie_short_href[i]\n",
    "        dummy = requests.get(url,headers={'User-Agent': 'Mozilla/5.0'})\n",
    "        movie_short_href[i]=dummy.url[dummy.url.rindex('/')+1::]\n",
    "        retrive_data_from_website(i)"
   ]
  },
  {
   "cell_type": "markdown",
   "metadata": {},
   "source": [
    "7. Write into a csv file"
   ]
  },
  {
   "cell_type": "code",
   "execution_count": 27,
   "metadata": {},
   "outputs": [
    {
     "data": {
      "text/plain": [
       "99"
      ]
     },
     "execution_count": 27,
     "metadata": {},
     "output_type": "execute_result"
    }
   ],
   "source": [
    "len(movie_details.keys())"
   ]
  },
  {
   "cell_type": "code",
   "execution_count": 26,
   "metadata": {},
   "outputs": [
    {
     "data": {
      "text/plain": [
       "[]"
      ]
     },
     "execution_count": 26,
     "metadata": {},
     "output_type": "execute_result"
    }
   ],
   "source": [
    "failed_items"
   ]
  },
  {
   "cell_type": "code",
   "execution_count": 91,
   "metadata": {},
   "outputs": [],
   "source": [
    "for i in  movie_short_href.values() :\n",
    "    if i in movie_details.keys():\n",
    "        pass\n",
    "    else :\n",
    "        print(i)\n",
    "        "
   ]
  },
  {
   "cell_type": "code",
   "execution_count": 25,
   "metadata": {},
   "outputs": [
    {
     "data": {
      "text/plain": [
       "{1: 'the-lord-of-the-rings-the-return-of-the-king',\n",
       " 2: 'carlos',\n",
       " 3: 'nomadland',\n",
       " 4: 'marriage-story',\n",
       " 5: 'la-la-land',\n",
       " 6: 'faces-places',\n",
       " 7: 'crouching-tiger-hidden-dragon',\n",
       " 8: 'the-servant',\n",
       " 9: 'call-me-by-your-name',\n",
       " 10: 'the-magnificent-ambersons',\n",
       " 11: 'reversal-of-fortune',\n",
       " 12: 'american-utopia',\n",
       " 13: 'shoplifters',\n",
       " 14: 'shoah-four-sisters',\n",
       " 15: 'the-39-steps',\n",
       " 16: 'duck-soup',\n",
       " 17: 'petite-maman',\n",
       " 18: 'days-of-heaven',\n",
       " 19: 'toni-erdmann',\n",
       " 20: 'yi-yi',\n",
       " 21: 'mccabe-mrs-miller',\n",
       " 22: 'the-best-years-of-our-lives',\n",
       " 23: 'stagecoach',\n",
       " 24: 'inside-llewyn-davis',\n",
       " 25: 'sherpa',\n",
       " 26: 'there-will-be-blood',\n",
       " 27: 'badlands',\n",
       " 28: 'the-last-picture-show',\n",
       " 29: 'do-the-right-thing',\n",
       " 30: 'sita-sings-the-blues',\n",
       " 31: 'the-decline-of-western-civilization',\n",
       " 32: 'rio-bravo',\n",
       " 33: 'brothers-keeper',\n",
       " 34: 'crumb',\n",
       " 35: 'spotlight',\n",
       " 36: 'the-band-wagon',\n",
       " 37: 'one-more-time-with-feeling',\n",
       " 38: 'the-diving-bell-and-the-butterfly',\n",
       " 39: 'invasion-of-the-body-snatchers-1956',\n",
       " 40: 'the-class',\n",
       " 41: 'platoon',\n",
       " 42: '35-shots-of-rum',\n",
       " 43: 'apocalypse-now-final-cut',\n",
       " 44: 'chinatown',\n",
       " 45: 'the-florida-project',\n",
       " 46: 'timbuktu',\n",
       " 47: 'frenzy',\n",
       " 48: 'brief-encounter',\n",
       " 49: 'cool-hand-luke',\n",
       " 50: 'little-women-1933',\n",
       " 51: 'maborosi',\n",
       " 52: 'top-hat',\n",
       " 53: 'apocalypse-now-redux',\n",
       " 54: 'annie-hall',\n",
       " 55: 'the-lord-of-the-rings-the-fellowship-of-the-ring',\n",
       " 56: 'quiz-show',\n",
       " 57: 'leviathan-2014',\n",
       " 58: 'werckmeister-harmonies',\n",
       " 59: 'toy-story-3',\n",
       " 60: 'this-is-spinal-tap',\n",
       " 61: 'the-look-of-silence',\n",
       " 62: 'tower',\n",
       " 63: 'the-rider',\n",
       " 64: 'moolaade',\n",
       " 65: 'atanarjuat-the-fast-runner',\n",
       " 66: 'time-2020',\n",
       " 67: 'gavagai',\n",
       " 68: 'the-man-who-would-be-king',\n",
       " 69: 'the-killing',\n",
       " 70: 'swing-time',\n",
       " 71: 'breaking-away',\n",
       " 72: 'the-souvenir',\n",
       " 73: 'after-life',\n",
       " 74: 'son-of-saul',\n",
       " 75: 'love-affair-1939',\n",
       " 76: 'frankenstein',\n",
       " 77: '-1963',\n",
       " 78: 'little-women-2019',\n",
       " 79: 'et-the-extra-terrestrial',\n",
       " 80: 'the-african-queen',\n",
       " 81: 'the-triplets-of-belleville',\n",
       " 82: 'the-queen',\n",
       " 83: 'all-quiet-on-the-western-front',\n",
       " 84: 'a-bread-factory-part-two',\n",
       " 85: 'never-rarely-sometimes-always',\n",
       " 86: 'the-ladykillers-1955',\n",
       " 87: 'young-mr-lincoln',\n",
       " 88: 'stories-we-tell',\n",
       " 89: 'a-bread-factory-part-one',\n",
       " 90: 'the-act-of-killing',\n",
       " 91: 'this-is-not-a-burial-its-a-resurrection',\n",
       " 92: 'on-the-waterfront',\n",
       " 93: 'jafar-panahis-taxi',\n",
       " 94: 'ida',\n",
       " 95: 'beau-travail',\n",
       " 96: 'uncut-gems',\n",
       " 97: 'waltz-with-bashir',\n",
       " 98: 'they-shall-not-grow-old',\n",
       " 99: 'ex-libris-new-york-public-library',\n",
       " 100: 'secrets-lies'}"
      ]
     },
     "execution_count": 25,
     "metadata": {},
     "output_type": "execute_result"
    }
   ],
   "source": [
    "movie_short_href"
   ]
  },
  {
   "cell_type": "code",
   "execution_count": null,
   "metadata": {},
   "outputs": [],
   "source": [
    "with open(\"dict.csv\", \"w\", newline=\"\") as csv_file:  \n",
    "    writer = csv.writer(csv_file)\n",
    "    for key, value in movie_details.items():\n",
    "        writer.writerow([key, value])\n",
    "\n"
   ]
  },
  {
   "cell_type": "markdown",
   "metadata": {},
   "source": [
    "8. Read from a csv file"
   ]
  },
  {
   "cell_type": "code",
   "execution_count": null,
   "metadata": {},
   "outputs": [],
   "source": [
    "with open('dict.csv') as csv_file:\n",
    "    reader = csv.reader(csv_file)\n",
    "    mydict = dict(reader)"
   ]
  },
  {
   "cell_type": "markdown",
   "metadata": {},
   "source": [
    "\n",
    "# Load the variable during dev phase \n",
    "\n",
    "Need to delete this when the project is completed. copy the cell from variable_pro.ipynb and run it under so we can load movie_details and movie_short_href"
   ]
  },
  {
   "cell_type": "code",
   "execution_count": null,
   "metadata": {},
   "outputs": [],
   "source": []
  },
  {
   "cell_type": "markdown",
   "metadata": {},
   "source": [
    "# Task\n",
    "1. Analyze how many times has each actor/actress appeared in these top 500 movies, analyze how many times has each director appeared in these top 500 movies, what can that tell you about their career?\n",
    " to do \n",
    "  First extract all cast into a list :\n",
    "  a) just the Principal cast?\n",
    "  b) Principal cast +  cast?\n",
    "  \n",
    "  Second make a register for cast with their count attached  \n",
    "  a) list of tuples  [(cast1,count),(cast2, count)...........]\n",
    "  b) dictionary {{cast1:count}, {cast2: count}......... }\n",
    "  c) just list  [cast1, cast2....][count1, count 2...] or [cast1, count1, cast2, count2..........]\n",
    "  "
   ]
  }
 ],
 "metadata": {
  "kernelspec": {
   "display_name": "Python 3",
   "language": "python",
   "name": "python3"
  },
  "language_info": {
   "codemirror_mode": {
    "name": "ipython",
    "version": 3
   },
   "file_extension": ".py",
   "mimetype": "text/x-python",
   "name": "python",
   "nbconvert_exporter": "python",
   "pygments_lexer": "ipython3",
   "version": "3.8.5"
  }
 },
 "nbformat": 4,
 "nbformat_minor": 4
}
