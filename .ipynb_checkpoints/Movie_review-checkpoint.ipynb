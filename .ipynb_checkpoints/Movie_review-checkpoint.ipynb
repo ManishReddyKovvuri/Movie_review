{
 "cells": [
  {
   "cell_type": "markdown",
   "metadata": {},
   "source": [
    "# TO DO\n",
    "1. we have webscrape the \"metacrtics\"  website for top 500 movies "
   ]
  },
  {
   "cell_type": "markdown",
   "metadata": {},
   "source": [
    "# Task 1 : Webscraping\n",
    " 1.import required libaries \n",
    "    * requests : To retrived the Html of the source page\n",
    "    * bs4      : To converted the obtained html which in the form of text into soup object in which we can retrive specific                      data like headers, paragraphs, etc.\n",
    "    * lxml     : Helps bs4 to understand the html."
   ]
  },
  {
   "cell_type": "code",
   "execution_count": 3,
   "metadata": {},
   "outputs": [],
   "source": [
    "import requests\n",
    "import lxml\n",
    "import bs4\n"
   ]
  },
  {
   "cell_type": "markdown",
   "metadata": {},
   "source": [
    "2.Loading the featured page links into a link to hit them"
   ]
  },
  {
   "cell_type": "code",
   "execution_count": 4,
   "metadata": {},
   "outputs": [],
   "source": [
    "urls =[\"https://www.metacritic.com/browse/movies/score/metascore/all/filtered?sort=desc&page=0\",\n",
    "      \"https://www.metacritic.com/browse/movies/score/metascore/all/filtered?sort=desc&page=1\",\n",
    "      \"https://www.metacritic.com/browse/movies/score/metascore/all/filtered?sort=desc&page=2\",\n",
    "      \"https://www.metacritic.com/browse/movies/score/metascore/all/filtered?sort=desc&page=3\",\n",
    "      \"https://www.metacritic.com/browse/movies/score/metascore/all/filtered?sort=desc&page=4\"]\n",
    "\n"
   ]
  },
  {
   "cell_type": "markdown",
   "metadata": {},
   "source": [
    "3. Initialise the varaible that are used to store the data"
   ]
  },
  {
   "cell_type": "code",
   "execution_count": 88,
   "metadata": {},
   "outputs": [],
   "source": [
    "movie_short_href={} # used to store the href values \n",
    "\n",
    "movie_details={}    # Used to store the final movie details as \n",
    "                    #   { 'movie_name':{'Director':['director_name'], \n",
    "                    #                   'Principal Cast' : [name_1, name_2 ...name_m], \n",
    "                    #                    'Cast':['name_1, name_2... name_n'] }}  note m>n.\n",
    "            \n",
    "failed_items=[]     # Used to store the movie if of those movie where we have a failed attempt.\n",
    "\n",
    "\n"
   ]
  },
  {
   "cell_type": "markdown",
   "metadata": {},
   "source": [
    "4. Below process is to achieve the link for each movies from the main page\n",
    "\n",
    "    result : now we have collection of end points of the movies."
   ]
  },
  {
   "cell_type": "code",
   "execution_count": 89,
   "metadata": {},
   "outputs": [],
   "source": [
    "\n",
    "index_num=0\n",
    "for url in urls:\n",
    "    result = requests.get(url,headers={'User-Agent': 'Mozilla/5.0'})\n",
    "    soup = bs4.BeautifulSoup(result.text, \"lxml\")\n",
    "    div_tag = soup.find_all('div', class_=[\"browse_list_wrapper one browse-list-large\",\n",
    "                                           \"browse_list_wrapper two browse-list-large\",\n",
    "                                           \"browse_list_wrapper three browse-list-large\",\n",
    "                                           \"browse_list_wrapper four browse-list-large\"])\n",
    "    for item in div_tag:\n",
    "        for element in item.find_all('td', class_='clamp-image-wrap'):\n",
    "            index_num=index_num+1\n",
    "            source=element.find_all('a' , href= True)[0]\n",
    "            movie_short_href[index_num]=source['href'].replace('/movie/','')\n",
    "    \n",
    "    "
   ]
  },
  {
   "cell_type": "markdown",
   "metadata": {},
   "source": [
    "5. This is method is to scrape individual movie details from its respective website, if there is any kind of failure while scraping we store the the movie id  in a list (failed_items)."
   ]
  },
  {
   "cell_type": "code",
   "execution_count": 90,
   "metadata": {},
   "outputs": [],
   "source": [
    "def retrive_data_from_website(i):\n",
    "    movie_link='https://www.metacritic.com/movie/'\n",
    "    url = movie_link+movie_short_href[i]+'/details'\n",
    "    result = requests.get(url,headers={'User-Agent': 'Mozilla/5.0'})\n",
    "    if result.status_code != 200:\n",
    "        failed_items.append(i)\n",
    "    else:\n",
    "        soup = bs4.BeautifulSoup(result.text,'lxml')\n",
    "        tags = soup.find_all('table', class_='credits')\n",
    "        wanted_columns=['Director', 'Principal Cast', 'Cast']\n",
    "        final_details={}\n",
    "        for table in tags:\n",
    "            column = table.find_all('th', class_=\"person\")[0].getText()\n",
    "            if column in wanted_columns:\n",
    "                details=[]\n",
    "                for name in table.find_all('a', href=True):\n",
    "                    details.append(name.getText().strip())\n",
    "                final_details[column]=details\n",
    "    if i in failed_items:\n",
    "        failed_items.remove(i)\n",
    "    movie_details[movie_short_href[i]]=final_details"
   ]
  },
  {
   "cell_type": "markdown",
   "metadata": {},
   "source": [
    "6. Now we hit every movie link from our collection and check for any failed attempts, \n",
    "    if any there is any failed attempt, we now change their href value in the collection(movie_short_href)."
   ]
  },
  {
   "cell_type": "code",
   "execution_count": 91,
   "metadata": {},
   "outputs": [
    {
     "name": "stdout",
     "output_type": "stream",
     "text": [
      "[]\n"
     ]
    }
   ],
   "source": [
    "\n",
    "for i in movie_short_href.keys():\n",
    "    retrive_data_from_website(i)\n",
    "\n",
    "if len(failed_items)>0:\n",
    "    for i in failed_items:\n",
    "        url = 'https://www.metacritic.com/movie/'+movie_short_href[1]\n",
    "        dummy = requests.get(url,headers={'User-Agent': 'Mozilla/5.0'})\n",
    "        movie_short_href[i]=dummy.url[dummy.url.rindex('/')+1::]\n",
    "        retrive_data_from_website(i)"
   ]
  },
  {
   "cell_type": "code",
   "execution_count": 100,
   "metadata": {},
   "outputs": [
    {
     "data": {
      "text/plain": [
       "{'Director': ['Barry Jenkins'],\n",
       " 'Principal Cast': ['Alex R. Hibbert',\n",
       "  'Ashton Sanders',\n",
       "  'Duan Sanderson',\n",
       "  \"Herman 'Caheei McGloun\",\n",
       "  'Jaden Piner',\n",
       "  'Janelle Monáe',\n",
       "  'Mahershala Ali',\n",
       "  'Naomie Harris',\n",
       "  'Shariff Earp'],\n",
       " 'Cast': ['Alex R. Hibbert',\n",
       "  'Andre Holland',\n",
       "  'Ashton Sanders',\n",
       "  \"Duan 'Sandy' Sanderson\",\n",
       "  'Duan Sanderson',\n",
       "  \"Duan'Sandy' Sanderson\",\n",
       "  'Eddie Blanchard',\n",
       "  'Edson Jean',\n",
       "  \"Herman 'Caheei McGloun\",\n",
       "  'Jaden Piner',\n",
       "  'Janelle Monáe',\n",
       "  'Jharrel Jerome',\n",
       "  'Kamal Ani-Bellow',\n",
       "  'Keomi Givens',\n",
       "  'Larry Anderson',\n",
       "  'Mahershala Ali',\n",
       "  'Naomie Harris',\n",
       "  'Patrick Decile',\n",
       "  'Rudi Goblen',\n",
       "  'Rudi Goblin',\n",
       "  'Shariff Earp',\n",
       "  'Stephon Bron',\n",
       "  'Tanisha Cidel',\n",
       "  'Trevante Rhodes']}"
      ]
     },
     "execution_count": 100,
     "metadata": {},
     "output_type": "execute_result"
    }
   ],
   "source": [
    "movie_details['moonlight-2016']"
   ]
  },
  {
   "cell_type": "code",
   "execution_count": 97,
   "metadata": {},
   "outputs": [],
   "source": [
    "import csv "
   ]
  },
  {
   "cell_type": "code",
   "execution_count": 98,
   "metadata": {},
   "outputs": [
    {
     "ename": "TypeError",
     "evalue": "__init__() missing 1 required positional argument: 'fieldnames'",
     "output_type": "error",
     "traceback": [
      "\u001b[1;31m---------------------------------------------------------------------------\u001b[0m",
      "\u001b[1;31mTypeError\u001b[0m                                 Traceback (most recent call last)",
      "\u001b[1;32m<ipython-input-98-d7b9d0ff475c>\u001b[0m in \u001b[0;36m<module>\u001b[1;34m\u001b[0m\n\u001b[0;32m      1\u001b[0m \u001b[1;32mwith\u001b[0m \u001b[0mopen\u001b[0m\u001b[1;33m(\u001b[0m\u001b[1;34m'Names.csv'\u001b[0m\u001b[1;33m,\u001b[0m \u001b[1;34m'w'\u001b[0m\u001b[1;33m)\u001b[0m \u001b[1;32mas\u001b[0m \u001b[0mcsvfile\u001b[0m\u001b[1;33m:\u001b[0m\u001b[1;33m\u001b[0m\u001b[1;33m\u001b[0m\u001b[0m\n\u001b[1;32m----> 2\u001b[1;33m     \u001b[0mwriter\u001b[0m \u001b[1;33m=\u001b[0m \u001b[0mcsv\u001b[0m\u001b[1;33m.\u001b[0m\u001b[0mDictWriter\u001b[0m\u001b[1;33m(\u001b[0m\u001b[0mmovie_details\u001b[0m\u001b[1;33m)\u001b[0m\u001b[1;33m\u001b[0m\u001b[1;33m\u001b[0m\u001b[0m\n\u001b[0m\u001b[0;32m      3\u001b[0m     \u001b[0mwriter\u001b[0m\u001b[1;33m.\u001b[0m\u001b[0mwriteheader\u001b[0m\u001b[1;33m(\u001b[0m\u001b[1;33m)\u001b[0m\u001b[1;33m\u001b[0m\u001b[1;33m\u001b[0m\u001b[0m\n\u001b[0;32m      4\u001b[0m     \u001b[0mwriter\u001b[0m\u001b[1;33m.\u001b[0m\u001b[0mwriterows\u001b[0m\u001b[1;33m(\u001b[0m\u001b[0mcars\u001b[0m\u001b[1;33m)\u001b[0m\u001b[1;33m\u001b[0m\u001b[1;33m\u001b[0m\u001b[0m\n",
      "\u001b[1;31mTypeError\u001b[0m: __init__() missing 1 required positional argument: 'fieldnames'"
     ]
    }
   ],
   "source": [
    "with open('Names.csv', 'w') as csvfile:\n",
    "    writer = csv.DictWriter(movie_details, fieldnames = ['Director', 'Principal Cast', 'Cast'])\n",
    "    writer.writeheader()\n",
    "    writer.writerows(cars)"
   ]
  },
  {
   "cell_type": "code",
   "execution_count": null,
   "metadata": {},
   "outputs": [],
   "source": []
  }
 ],
 "metadata": {
  "kernelspec": {
   "display_name": "Python 3",
   "language": "python",
   "name": "python3"
  },
  "language_info": {
   "codemirror_mode": {
    "name": "ipython",
    "version": 3
   },
   "file_extension": ".py",
   "mimetype": "text/x-python",
   "name": "python",
   "nbconvert_exporter": "python",
   "pygments_lexer": "ipython3",
   "version": "3.8.5"
  }
 },
 "nbformat": 4,
 "nbformat_minor": 4
}
